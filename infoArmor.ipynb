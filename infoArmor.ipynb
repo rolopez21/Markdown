{
 "cells": [
  {
   "cell_type": "code",
   "execution_count": 122,
   "metadata": {},
   "outputs": [],
   "source": [
    "import io\n",
    "from pdfminer.converter import TextConverter\n",
    "from pdfminer.pdfinterp import PDFPageInterpreter\n",
    "from pdfminer.pdfinterp import PDFResourceManager\n",
    "from pdfminer.pdfpage import PDFPage\n",
    "def extract_text_from_pdf(pdf_path):\n",
    "    resource_manager = PDFResourceManager()\n",
    "    fake_file_handle = io.StringIO()\n",
    "    converter = TextConverter(resource_manager, fake_file_handle)\n",
    "    page_interpreter = PDFPageInterpreter(resource_manager, converter)\n",
    "    \n",
    "    with open(pdf_path, 'rb') as fh:\n",
    "        for page in PDFPage.get_pages(fh, \n",
    "                                      caching=True,\n",
    "                                      check_extractable=True):\n",
    "            page_interpreter.process_page(page)\n",
    "            \n",
    "        text = fake_file_handle.getvalue()\n",
    "    \n",
    "    # close open handles\n",
    "    converter.close()\n",
    "    fake_file_handle.close()\n",
    "    \n",
    "    if text:\n",
    "        return text"
   ]
  },
  {
   "cell_type": "code",
   "execution_count": 123,
   "metadata": {},
   "outputs": [
    {
     "name": "stdout",
     "output_type": "stream",
     "text": [
      "The original string is : Dept 3189PO Box 123189Dallas TX 75312-3189United Stateshttps://www.infoarmor.comInvoiceDate3/31/2020Invoice #1191Mar20Bill ToDIAMOND WTG ENGINEERING & SER...MHI SHARED SERVICES AMERICAATTN: Benefits Department20 East Greenway Plaza, Suite 830Huston TX 77046TermsDue Date4/30/2020PO #Notes:1. Please include client identification number on payment2. Please send remittance advice with reference to Invoice # to remittance@infoarmor.com3. For Other correspondence, please use our physical address:     7001 N Scottsdale Rd, Suite 2020, Scottsdale, AZ 85253Electronic Funds TransferBank Name: Silicon Valley BankBank Address: 3003 Tasman Drive, Santa Clara, CA 95054Account Name: InforArmor, IncAccount Number: 3300921081ABA 121140399Swift: SVBKUS6SCurrency: USDQuantity176DescriptionIndividual PrivacyArmor Monthly CoverageUnit Price2.25Amount396.00Total$396.00\f",
      "\n"
     ]
    }
   ],
   "source": [
    "# to extract words from string  \n",
    "# using regex( findall() ) \n",
    "import re \n",
    "  \n",
    "# initializing string   \n",
    "test_string = extract_text_from_pdf(\"Invoice_1191Mar20_1583793220200.pdf\")\n",
    "  \n",
    "# printing original string \n",
    "print (\"The original string is : \" +  test_string) "
   ]
  },
  {
   "cell_type": "code",
   "execution_count": 124,
   "metadata": {},
   "outputs": [],
   "source": [
    "# using regex( findall() ) \n",
    "# to extract words from string \n",
    "res = re.findall(r'\\w+', test_string) "
   ]
  },
  {
   "cell_type": "code",
   "execution_count": 125,
   "metadata": {},
   "outputs": [
    {
     "data": {
      "text/plain": [
       "['Dept',\n",
       " '3189PO',\n",
       " 'Box',\n",
       " '123189Dallas',\n",
       " 'TX',\n",
       " '75312',\n",
       " '3189United',\n",
       " 'Stateshttps',\n",
       " 'www',\n",
       " 'infoarmor',\n",
       " 'comInvoiceDate3',\n",
       " '31',\n",
       " '2020Invoice',\n",
       " '1191Mar20Bill',\n",
       " 'ToDIAMOND',\n",
       " 'WTG',\n",
       " 'ENGINEERING',\n",
       " 'SER',\n",
       " 'MHI',\n",
       " 'SHARED',\n",
       " 'SERVICES',\n",
       " 'AMERICAATTN',\n",
       " 'Benefits',\n",
       " 'Department20',\n",
       " 'East',\n",
       " 'Greenway',\n",
       " 'Plaza',\n",
       " 'Suite',\n",
       " '830Huston',\n",
       " 'TX',\n",
       " '77046TermsDue',\n",
       " 'Date4',\n",
       " '30',\n",
       " '2020PO',\n",
       " 'Notes',\n",
       " '1',\n",
       " 'Please',\n",
       " 'include',\n",
       " 'client',\n",
       " 'identification',\n",
       " 'number',\n",
       " 'on',\n",
       " 'payment2',\n",
       " 'Please',\n",
       " 'send',\n",
       " 'remittance',\n",
       " 'advice',\n",
       " 'with',\n",
       " 'reference',\n",
       " 'to',\n",
       " 'Invoice',\n",
       " 'to',\n",
       " 'remittance',\n",
       " 'infoarmor',\n",
       " 'com3',\n",
       " 'For',\n",
       " 'Other',\n",
       " 'correspondence',\n",
       " 'please',\n",
       " 'use',\n",
       " 'our',\n",
       " 'physical',\n",
       " 'address',\n",
       " '7001',\n",
       " 'N',\n",
       " 'Scottsdale',\n",
       " 'Rd',\n",
       " 'Suite',\n",
       " '2020',\n",
       " 'Scottsdale',\n",
       " 'AZ',\n",
       " '85253Electronic',\n",
       " 'Funds',\n",
       " 'TransferBank',\n",
       " 'Name',\n",
       " 'Silicon',\n",
       " 'Valley',\n",
       " 'BankBank',\n",
       " 'Address',\n",
       " '3003',\n",
       " 'Tasman',\n",
       " 'Drive',\n",
       " 'Santa',\n",
       " 'Clara',\n",
       " 'CA',\n",
       " '95054Account',\n",
       " 'Name',\n",
       " 'InforArmor',\n",
       " 'IncAccount',\n",
       " 'Number',\n",
       " '3300921081ABA',\n",
       " '121140399Swift',\n",
       " 'SVBKUS6SCurrency',\n",
       " 'USDQuantity176DescriptionIndividual',\n",
       " 'PrivacyArmor',\n",
       " 'Monthly',\n",
       " 'CoverageUnit',\n",
       " 'Price2',\n",
       " '25Amount396',\n",
       " '00Total',\n",
       " '396',\n",
       " '00']"
      ]
     },
     "execution_count": 125,
     "metadata": {},
     "output_type": "execute_result"
    }
   ],
   "source": [
    "res"
   ]
  },
  {
   "cell_type": "code",
   "execution_count": 126,
   "metadata": {},
   "outputs": [
    {
     "data": {
      "text/plain": [
       "'infoarmor'"
      ]
     },
     "execution_count": 126,
     "metadata": {},
     "output_type": "execute_result"
    }
   ],
   "source": [
    "vendorName = res[9]\n",
    "vendorName"
   ]
  },
  {
   "cell_type": "code",
   "execution_count": 127,
   "metadata": {},
   "outputs": [
    {
     "data": {
      "text/plain": [
       "['3']"
      ]
     },
     "execution_count": 127,
     "metadata": {},
     "output_type": "execute_result"
    }
   ],
   "source": [
    "nummonth = re.findall(r'\\d+', res[10]) \n",
    "nummonth"
   ]
  },
  {
   "cell_type": "code",
   "execution_count": 128,
   "metadata": {},
   "outputs": [
    {
     "data": {
      "text/plain": [
       "'31'"
      ]
     },
     "execution_count": 128,
     "metadata": {},
     "output_type": "execute_result"
    }
   ],
   "source": [
    "numDay = res[11]\n",
    "numDay"
   ]
  },
  {
   "cell_type": "code",
   "execution_count": 129,
   "metadata": {},
   "outputs": [
    {
     "data": {
      "text/plain": [
       "['2020']"
      ]
     },
     "execution_count": 129,
     "metadata": {},
     "output_type": "execute_result"
    }
   ],
   "source": [
    "numYear = re.findall(r'\\d+', res[12])\n",
    "numYear"
   ]
  },
  {
   "cell_type": "code",
   "execution_count": 130,
   "metadata": {},
   "outputs": [
    {
     "data": {
      "text/plain": [
       "'3/31/2020'"
      ]
     },
     "execution_count": 130,
     "metadata": {},
     "output_type": "execute_result"
    }
   ],
   "source": [
    "joindate = ''.join(nummonth)\n",
    "joindate = joindate + \"/\" + res[11] + \"/\" +''.join(numyear)\n",
    "joindate"
   ]
  },
  {
   "cell_type": "code",
   "execution_count": 131,
   "metadata": {},
   "outputs": [
    {
     "data": {
      "text/plain": [
       "'1191Mar20Bill'"
      ]
     },
     "execution_count": 131,
     "metadata": {},
     "output_type": "execute_result"
    }
   ],
   "source": [
    "invnumber = res[13]\n",
    "invnumber"
   ]
  },
  {
   "cell_type": "code",
   "execution_count": 132,
   "metadata": {},
   "outputs": [
    {
     "data": {
      "text/plain": [
       "'396'"
      ]
     },
     "execution_count": 132,
     "metadata": {},
     "output_type": "execute_result"
    }
   ],
   "source": [
    "invRoundAmount = res[-2]\n",
    "invRoundAmount"
   ]
  },
  {
   "cell_type": "code",
   "execution_count": 133,
   "metadata": {},
   "outputs": [
    {
     "data": {
      "text/plain": [
       "'00'"
      ]
     },
     "execution_count": 133,
     "metadata": {},
     "output_type": "execute_result"
    }
   ],
   "source": [
    "invRoundDecimal = res[-1]\n",
    "invRoundDecimal"
   ]
  },
  {
   "cell_type": "code",
   "execution_count": 134,
   "metadata": {},
   "outputs": [
    {
     "data": {
      "text/plain": [
       "'396.00'"
      ]
     },
     "execution_count": 134,
     "metadata": {},
     "output_type": "execute_result"
    }
   ],
   "source": [
    "joinAmount = ''.join(invRoundAmount)\n",
    "invoiceAmount = joinAmount + \".\" + ''.join(invRoundDecimal)\n",
    "invoiceAmount"
   ]
  },
  {
   "cell_type": "code",
   "execution_count": 135,
   "metadata": {},
   "outputs": [
    {
     "data": {
      "text/plain": [
       "'PrivacyArmor Monthly CoverageUnit'"
      ]
     },
     "execution_count": 135,
     "metadata": {},
     "output_type": "execute_result"
    }
   ],
   "source": [
    "invoiceDescription = ''.join(res[-8]) + \" \" + ''.join(res[-7]) + \" \" + ''.join(res[-6]) \n",
    "invoiceDescription"
   ]
  },
  {
   "cell_type": "code",
   "execution_count": null,
   "metadata": {},
   "outputs": [],
   "source": []
  }
 ],
 "metadata": {
  "kernelspec": {
   "display_name": "Python 3",
   "language": "python",
   "name": "python3"
  },
  "language_info": {
   "codemirror_mode": {
    "name": "ipython",
    "version": 3
   },
   "file_extension": ".py",
   "mimetype": "text/x-python",
   "name": "python",
   "nbconvert_exporter": "python",
   "pygments_lexer": "ipython3",
   "version": "3.7.5"
  }
 },
 "nbformat": 4,
 "nbformat_minor": 4
}
